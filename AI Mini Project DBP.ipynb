{
 "cells": [
  {
   "cell_type": "markdown",
   "metadata": {},
   "source": [
    "In this project, we will see how to use Keras and TensorFlow to build, train, and test a Convolutional Neural Network capable of identifying the breed of a dog in a supplied image. This is a **supervised learning** problem, specifically **a multiclass classification** problem."
   ]
  },
  {
   "cell_type": "code",
   "execution_count": 1,
   "metadata": {},
   "outputs": [],
   "source": [
    "#!pip install tensorflow"
   ]
  },
  {
   "cell_type": "code",
   "execution_count": 2,
   "metadata": {
    "_cell_guid": "499ebdfb-fede-4ba2-9ff4-067292f9a865",
    "_uuid": "ae0df6a520487e080515d7a76cf955d095b483c0",
    "execution": {
     "iopub.execute_input": "2022-02-18T13:13:15.228759Z",
     "iopub.status.busy": "2022-02-18T13:13:15.228454Z",
     "iopub.status.idle": "2022-02-18T13:13:16.140936Z",
     "shell.execute_reply": "2022-02-18T13:13:16.139727Z",
     "shell.execute_reply.started": "2022-02-18T13:13:15.22872Z"
    }
   },
   "outputs": [],
   "source": [
    "import numpy as np          # linear algebra\n",
    "import pandas as pd        # data processing, CSV file I/O (e.g. pd.read_csv)\n",
    "from random import randint\n",
    "from tqdm import tqdm      #tqdm is a library in Python which is used for creating Progress Meters or Progress Bars. \n",
    "#Look at this: https://www.analyticsvidhya.com/blog/2021/05/how-to-use-progress-bars-in-python/\n",
    "import cv2\n",
    "import matplotlib.pyplot as plt\n",
    "# Input data files are available in the \"../input/\" directory.\n",
    "# For example, running this (by clicking run or pressing Shift+Enter) will list the files in the input directory\n",
    "\n",
    "from subprocess import check_output\n",
    "#print(check_output([\"ls\", \"../input\"]).decode(\"utf8\"))\n",
    "\n",
    "# Any results you write to the current directory are saved as output."
   ]
  },
  {
   "cell_type": "code",
   "execution_count": 3,
   "metadata": {
    "execution": {
     "iopub.execute_input": "2022-02-18T13:13:25.411382Z",
     "iopub.status.busy": "2022-02-18T13:13:25.410605Z",
     "iopub.status.idle": "2022-02-18T13:13:28.793271Z",
     "shell.execute_reply": "2022-02-18T13:13:28.792473Z",
     "shell.execute_reply.started": "2022-02-18T13:13:25.411311Z"
    }
   },
   "outputs": [],
   "source": [
    "from keras.preprocessing import image\n",
    "from sklearn.preprocessing import label_binarize\n",
    "from sklearn.model_selection import train_test_split\n",
    "from keras.models import Sequential\n",
    "from keras.layers import Dense, Dropout, Flatten, Conv2D, MaxPool2D\n",
    "#from keras.optimizers import Adam\n",
    "from tensorflow.keras.optimizers import Adam"
   ]
  },
  {
   "cell_type": "markdown",
   "metadata": {},
   "source": [
    "Loading the labels data into dataframe and viewing it. Here we analysed that labels contains 10222 rows and 2 columns.  "
   ]
  },
  {
   "cell_type": "code",
   "execution_count": 4,
   "metadata": {
    "_cell_guid": "1a219277-cf22-4d2d-84cf-3b421f591913",
    "_uuid": "8a9e1edb957ac7a7706a2248902f87ca8b39bc0f",
    "execution": {
     "iopub.execute_input": "2022-02-18T13:13:30.721679Z",
     "iopub.status.busy": "2022-02-18T13:13:30.721056Z",
     "iopub.status.idle": "2022-02-18T13:13:30.773361Z",
     "shell.execute_reply": "2022-02-18T13:13:30.772505Z",
     "shell.execute_reply.started": "2022-02-18T13:13:30.721625Z"
    }
   },
   "outputs": [
    {
     "name": "stdout",
     "output_type": "stream",
     "text": [
      "(10222, 2)\n"
     ]
    },
    {
     "data": {
      "text/html": [
       "<div>\n",
       "<style scoped>\n",
       "    .dataframe tbody tr th:only-of-type {\n",
       "        vertical-align: middle;\n",
       "    }\n",
       "\n",
       "    .dataframe tbody tr th {\n",
       "        vertical-align: top;\n",
       "    }\n",
       "\n",
       "    .dataframe thead th {\n",
       "        text-align: right;\n",
       "    }\n",
       "</style>\n",
       "<table border=\"1\" class=\"dataframe\">\n",
       "  <thead>\n",
       "    <tr style=\"text-align: right;\">\n",
       "      <th></th>\n",
       "      <th>id</th>\n",
       "      <th>breed</th>\n",
       "    </tr>\n",
       "  </thead>\n",
       "  <tbody>\n",
       "    <tr>\n",
       "      <th>0</th>\n",
       "      <td>000bec180eb18c7604dcecc8fe0dba07</td>\n",
       "      <td>boston_bull</td>\n",
       "    </tr>\n",
       "    <tr>\n",
       "      <th>1</th>\n",
       "      <td>001513dfcb2ffafc82cccf4d8bbaba97</td>\n",
       "      <td>dingo</td>\n",
       "    </tr>\n",
       "    <tr>\n",
       "      <th>2</th>\n",
       "      <td>001cdf01b096e06d78e9e5112d419397</td>\n",
       "      <td>pekinese</td>\n",
       "    </tr>\n",
       "    <tr>\n",
       "      <th>3</th>\n",
       "      <td>00214f311d5d2247d5dfe4fe24b2303d</td>\n",
       "      <td>bluetick</td>\n",
       "    </tr>\n",
       "    <tr>\n",
       "      <th>4</th>\n",
       "      <td>0021f9ceb3235effd7fcde7f7538ed62</td>\n",
       "      <td>golden_retriever</td>\n",
       "    </tr>\n",
       "    <tr>\n",
       "      <th>5</th>\n",
       "      <td>002211c81b498ef88e1b40b9abf84e1d</td>\n",
       "      <td>bedlington_terrier</td>\n",
       "    </tr>\n",
       "    <tr>\n",
       "      <th>6</th>\n",
       "      <td>00290d3e1fdd27226ba27a8ce248ce85</td>\n",
       "      <td>bedlington_terrier</td>\n",
       "    </tr>\n",
       "    <tr>\n",
       "      <th>7</th>\n",
       "      <td>002a283a315af96eaea0e28e7163b21b</td>\n",
       "      <td>borzoi</td>\n",
       "    </tr>\n",
       "    <tr>\n",
       "      <th>8</th>\n",
       "      <td>003df8b8a8b05244b1d920bb6cf451f9</td>\n",
       "      <td>basenji</td>\n",
       "    </tr>\n",
       "    <tr>\n",
       "      <th>9</th>\n",
       "      <td>0042188c895a2f14ef64a918ed9c7b64</td>\n",
       "      <td>scottish_deerhound</td>\n",
       "    </tr>\n",
       "  </tbody>\n",
       "</table>\n",
       "</div>"
      ],
      "text/plain": [
       "                                 id               breed\n",
       "0  000bec180eb18c7604dcecc8fe0dba07         boston_bull\n",
       "1  001513dfcb2ffafc82cccf4d8bbaba97               dingo\n",
       "2  001cdf01b096e06d78e9e5112d419397            pekinese\n",
       "3  00214f311d5d2247d5dfe4fe24b2303d            bluetick\n",
       "4  0021f9ceb3235effd7fcde7f7538ed62    golden_retriever\n",
       "5  002211c81b498ef88e1b40b9abf84e1d  bedlington_terrier\n",
       "6  00290d3e1fdd27226ba27a8ce248ce85  bedlington_terrier\n",
       "7  002a283a315af96eaea0e28e7163b21b              borzoi\n",
       "8  003df8b8a8b05244b1d920bb6cf451f9             basenji\n",
       "9  0042188c895a2f14ef64a918ed9c7b64  scottish_deerhound"
      ]
     },
     "execution_count": 4,
     "metadata": {},
     "output_type": "execute_result"
    }
   ],
   "source": [
    "df_train = pd.read_csv(\"labels.csv\")\n",
    "print(df_train.shape)\n",
    "df_train.head(10)\n"
   ]
  },
  {
   "cell_type": "markdown",
   "metadata": {
    "_cell_guid": "52de0fd9-a626-4980-a474-7ae7d00b9a30",
    "_uuid": "d41536607ab5486cba4beaf9f0e93798065af702"
   },
   "source": [
    "***Visualize trainingsdata distribution***"
   ]
  },
  {
   "cell_type": "code",
   "execution_count": 5,
   "metadata": {
    "execution": {
     "iopub.execute_input": "2022-02-18T13:13:35.589918Z",
     "iopub.status.busy": "2022-02-18T13:13:35.589298Z",
     "iopub.status.idle": "2022-02-18T13:13:35.604111Z",
     "shell.execute_reply": "2022-02-18T13:13:35.603029Z",
     "shell.execute_reply.started": "2022-02-18T13:13:35.589843Z"
    }
   },
   "outputs": [
    {
     "data": {
      "text/plain": [
       "scottish_deerhound      126\n",
       "maltese_dog             117\n",
       "afghan_hound            116\n",
       "entlebucher             115\n",
       "bernese_mountain_dog    114\n",
       "Name: breed, dtype: int64"
      ]
     },
     "execution_count": 5,
     "metadata": {},
     "output_type": "execute_result"
    }
   ],
   "source": [
    "# Visualize the number of each breeds\n",
    "breeds_all = df_train[\"breed\"]\n",
    "breed_counts = breeds_all.value_counts()\n",
    "breed_counts.head()\n",
    "\n",
    "#Here we are finding out the count per class i.e. total data in each class using value_counts() function.\n"
   ]
  },
  {
   "cell_type": "code",
   "execution_count": 6,
   "metadata": {
    "_cell_guid": "ce5b56e1-f9d3-4d5a-9dac-8567921d26e9",
    "_uuid": "2beabc5637359f977b784e607a33bcfb79e44193",
    "execution": {
     "iopub.execute_input": "2022-02-18T13:13:38.565642Z",
     "iopub.status.busy": "2022-02-18T13:13:38.565025Z",
     "iopub.status.idle": "2022-02-18T13:13:38.580926Z",
     "shell.execute_reply": "2022-02-18T13:13:38.580099Z",
     "shell.execute_reply.started": "2022-02-18T13:13:38.565588Z"
    }
   },
   "outputs": [],
   "source": [
    "def plot_images(images, classes):\n",
    "    assert len(images) == len(classes) == 9\n",
    "    \n",
    "    # Create figure with 3x3 sub-plots.\n",
    "    fig, axes = plt.subplots(3, 3,figsize=(60,60),sharex=True)\n",
    "    fig.subplots_adjust(hspace=0.3, wspace=0.3)\n",
    "   \n",
    "    for i, ax in enumerate(axes.flat):\n",
    "        # Plot image.\n",
    "        \n",
    "        ax.imshow(cv2.cvtColor(images[i], cv2.COLOR_BGR2RGB).reshape(img_width,img_height,3), cmap='hsv')    \n",
    "        xlabel = \"Breed: {0}\".format(classes[i])\n",
    "    \n",
    "        # Show the classes as the label on the x-axis.\n",
    "        ax.set_xlabel(xlabel)\n",
    "        ax.xaxis.label.set_size(60)\n",
    "        # Remove ticks from the plot.\n",
    "        ax.set_xticks([])\n",
    "        ax.set_yticks([])\n",
    "    \n",
    "    # Ensure the plot is shown correctly with multiple plots\n",
    "    # in a single Notebook cell.\n",
    "    \n",
    "    plt.show()"
   ]
  },
  {
   "cell_type": "markdown",
   "metadata": {
    "_cell_guid": "a280db79-ce8f-4742-9ee4-599f1769f397",
    "_uuid": "e9a23a1858b115b6260c0bb419234db8d4741d87"
   },
   "source": [
    "***Load trainingsdata***"
   ]
  },
  {
   "cell_type": "code",
   "execution_count": null,
   "metadata": {
    "_cell_guid": "a55f656a-1af1-4ee1-814d-86f984692f7f",
    "_uuid": "f41baaf90b16b8957a86a847aa98f723c520655d",
    "execution": {
     "iopub.execute_input": "2022-02-18T13:13:48.754496Z",
     "iopub.status.busy": "2022-02-18T13:13:48.753914Z",
     "iopub.status.idle": "2022-02-18T13:15:55.885621Z",
     "shell.execute_reply": "2022-02-18T13:15:55.884811Z",
     "shell.execute_reply.started": "2022-02-18T13:13:48.754422Z"
    }
   },
   "outputs": [
    {
     "name": "stderr",
     "output_type": "stream",
     "text": [
      " 92%|██████████████████████████████████████████████████████████████████████▌      | 9374/10222 [03:29<00:19, 42.87it/s]"
     ]
    }
   ],
   "source": [
    "img_width=250\n",
    "img_height=250\n",
    "images=[]\n",
    "classes=[]\n",
    "#load training images\n",
    "for f, breed in tqdm(df_train.values):\n",
    "    img = cv2.imread('train/{}.jpg'.format(f))\n",
    "    classes.append(breed)\n",
    "    images.append(cv2.resize(img, (img_width, img_height)))"
   ]
  },
  {
   "cell_type": "markdown",
   "metadata": {
    "_cell_guid": "78666aef-0728-4dd0-a601-2792fac909ba",
    "_uuid": "ae67ce24433159dad5f3ea5d16d0e1c3e504932c"
   },
   "source": [
    "***Plot some example images***"
   ]
  },
  {
   "cell_type": "code",
   "execution_count": null,
   "metadata": {
    "_cell_guid": "8bd8db60-26f5-4b28-92e8-6ae1f34b124e",
    "_uuid": "f9c8f2ac1b6feab999464e3f64c90bf49e8e25b1",
    "execution": {
     "iopub.execute_input": "2022-02-18T13:15:59.513615Z",
     "iopub.status.busy": "2022-02-18T13:15:59.512907Z",
     "iopub.status.idle": "2022-02-18T13:16:02.704392Z",
     "shell.execute_reply": "2022-02-18T13:16:02.703701Z",
     "shell.execute_reply.started": "2022-02-18T13:15:59.513546Z"
    }
   },
   "outputs": [],
   "source": [
    "\n",
    "# select random images\n",
    "random_numbers = [randint(0, len(images)) for p in range(0,9)]\n",
    "print(random_numbers)\n",
    "images_to_show = [images[i] for i in random_numbers]\n",
    "classes_to_show = [classes[i] for i in random_numbers]\n",
    "print(\"Images to show: {0}\".format(len(images_to_show)))\n",
    "print(\"Classes to show: {0}\".format(len(classes_to_show)))\n",
    "\n",
    "#plot the images\n",
    "plot_images(images_to_show, classes_to_show)\n",
    "   "
   ]
  },
  {
   "cell_type": "code",
   "execution_count": null,
   "metadata": {
    "execution": {
     "iopub.execute_input": "2022-02-18T13:39:05.592978Z",
     "iopub.status.busy": "2022-02-18T13:39:05.592366Z",
     "iopub.status.idle": "2022-02-18T13:39:05.608844Z",
     "shell.execute_reply": "2022-02-18T13:39:05.607756Z",
     "shell.execute_reply.started": "2022-02-18T13:39:05.592904Z"
    }
   },
   "outputs": [],
   "source": [
    "# Selecting first 3 breeds (Limitation due to computation power)\n",
    "CLASS_NAMES = ['scottish_deerhound','maltese_dog','bernese_mountain_dog']\n",
    "labels = df_train[(df_train['breed'].isin(CLASS_NAMES))]\n",
    "labels = labels.reset_index()\n",
    "labels.head()\n"
   ]
  },
  {
   "cell_type": "code",
   "execution_count": null,
   "metadata": {
    "execution": {
     "iopub.execute_input": "2022-02-18T13:43:46.969341Z",
     "iopub.status.busy": "2022-02-18T13:43:46.969021Z",
     "iopub.status.idle": "2022-02-18T13:43:48.851012Z",
     "shell.execute_reply": "2022-02-18T13:43:48.85018Z",
     "shell.execute_reply.started": "2022-02-18T13:43:46.969302Z"
    }
   },
   "outputs": [],
   "source": [
    "# Creating numpy matrix with zeros\n",
    "X_data = np.zeros((len(labels), 224, 224, 3), dtype='float32')\n",
    "# One hot encoding\n",
    "Y_data = label_binarize(labels['breed'], classes = CLASS_NAMES)\n",
    "\n",
    "# Reading and converting image to numpy array and normalizing dataset\n",
    "for i in tqdm(range(len(labels))):\n",
    "    img = image.load_img('train/%s.jpg' % labels['id'][i], target_size=(224, 224))\n",
    "    img = image.img_to_array(img)\n",
    "    x = np.expand_dims(img.copy(), axis=0)\n",
    "    X_data[i] = x / 255.0\n",
    "    \n",
    "# Printing train image and one hot encode shape & size\n",
    "print('\\nTrain Images shape: ',X_data.shape,' size: {:,}'.format(X_data.size))\n",
    "print('One-hot encoded output shape: ',Y_data.shape,' size: {:,}'.format(Y_data.size))"
   ]
  },
  {
   "cell_type": "markdown",
   "metadata": {},
   "source": [
    "As we are working with the classification dataset first we need to one hot encode the target value i.e. the classes. After that we will read images and convert them into numpy array and finally normalizing the array."
   ]
  },
  {
   "cell_type": "code",
   "execution_count": null,
   "metadata": {
    "execution": {
     "iopub.execute_input": "2022-02-17T11:41:19.539348Z",
     "iopub.status.busy": "2022-02-17T11:41:19.538929Z",
     "iopub.status.idle": "2022-02-17T11:41:19.994835Z",
     "shell.execute_reply": "2022-02-17T11:41:19.99387Z",
     "shell.execute_reply.started": "2022-02-17T11:41:19.53928Z"
    }
   },
   "outputs": [],
   "source": [
    "# Building the Model\n",
    "model = Sequential()\n",
    "\n",
    "model.add(Conv2D(filters = 64, kernel_size = (5,5), activation ='relu', input_shape = (224,224,3)))\n",
    "model.add(MaxPool2D(pool_size=(2,2)))\n",
    "\n",
    "model.add(Conv2D(filters = 32, kernel_size = (3,3), activation ='relu', kernel_regularizer = 'l2'))\n",
    "model.add(MaxPool2D(pool_size=(2,2)))\n",
    "\n",
    "model.add(Conv2D(filters = 16, kernel_size = (7,7), activation ='relu', kernel_regularizer = 'l2'))\n",
    "model.add(MaxPool2D(pool_size=(2,2)))\n",
    "\n",
    "model.add(Conv2D(filters = 8, kernel_size = (5,5), activation ='relu', kernel_regularizer = 'l2'))\n",
    "model.add(MaxPool2D(pool_size=(2,2)))\n",
    "\n",
    "model.add(Flatten())\n",
    "model.add(Dense(128, activation = \"relu\", kernel_regularizer = 'l2'))\n",
    "model.add(Dense(64, activation = \"relu\", kernel_regularizer = 'l2'))\n",
    "model.add(Dense(len(CLASS_NAMES), activation = \"softmax\"))\n",
    "\n",
    "model.compile(loss = 'categorical_crossentropy', optimizer = Adam(0.0001),metrics=['accuracy'])\n",
    "\n",
    "model.summary()"
   ]
  },
  {
   "cell_type": "markdown",
   "metadata": {},
   "source": [
    "Next we will create a network architecture for the model. We have used different types of layers according to their features namely Conv_2d (It is used to create a convolutional kernel that is convolved with the input layer to produce the output tensor), max_pooling2d (It is a downsampling technique which takes out the maximum value over the window defined by poolsize), flatten (It flattens the input and creates a 1D output), Dense (Dense layer produce the output as the dot product of input and kernel).\n"
   ]
  },
  {
   "cell_type": "markdown",
   "metadata": {},
   "source": [
    "After defining the network architecture we found out the total parameters as 162,619.\n"
   ]
  },
  {
   "cell_type": "code",
   "execution_count": null,
   "metadata": {
    "execution": {
     "iopub.execute_input": "2022-02-17T11:41:19.996766Z",
     "iopub.status.busy": "2022-02-17T11:41:19.996252Z",
     "iopub.status.idle": "2022-02-17T11:41:20.736923Z",
     "shell.execute_reply": "2022-02-17T11:41:20.735611Z",
     "shell.execute_reply.started": "2022-02-17T11:41:19.996706Z"
    }
   },
   "outputs": [],
   "source": [
    "# Splitting the data set into training and testing data sets\n",
    "X_train_and_val, X_test, Y_train_and_val, Y_test = train_test_split(X_data, Y_data, test_size = 0.1)\n",
    "# Splitting the training data set into training and validation data sets\n",
    "X_train, X_val, Y_train, Y_val = train_test_split(X_train_and_val, Y_train_and_val, test_size = 0.2)"
   ]
  },
  {
   "cell_type": "markdown",
   "metadata": {},
   "source": [
    "After defining the network architecture we will start with splitting the test and train data then dividing train data in train and validation data. \n"
   ]
  },
  {
   "cell_type": "code",
   "execution_count": null,
   "metadata": {
    "execution": {
     "iopub.execute_input": "2022-02-17T11:41:20.738248Z",
     "iopub.status.busy": "2022-02-17T11:41:20.737982Z",
     "iopub.status.idle": "2022-02-17T13:03:24.620702Z",
     "shell.execute_reply": "2022-02-17T13:03:24.618611Z",
     "shell.execute_reply.started": "2022-02-17T11:41:20.738204Z"
    }
   },
   "outputs": [],
   "source": [
    "# Training the model\n",
    "epochs = 100\n",
    "batch_size = 128\n",
    "\n",
    "history = model.fit(X_train, Y_train, batch_size = batch_size, epochs = epochs, \n",
    "                    validation_data = (X_val, Y_val))"
   ]
  },
  {
   "cell_type": "markdown",
   "metadata": {},
   "source": [
    "Now we will train our model on 100 epochs and a batch size of 128. You can try using more number of epochs to increase accuracy. During each epochs we can see how the model is performing by viewing the training and validation accuracy.\n"
   ]
  },
  {
   "cell_type": "code",
   "execution_count": null,
   "metadata": {
    "execution": {
     "iopub.execute_input": "2022-02-17T13:10:05.094452Z",
     "iopub.status.busy": "2022-02-17T13:10:05.093907Z",
     "iopub.status.idle": "2022-02-17T13:10:05.309582Z",
     "shell.execute_reply": "2022-02-17T13:10:05.308533Z",
     "shell.execute_reply.started": "2022-02-17T13:10:05.094392Z"
    }
   },
   "outputs": [],
   "source": [
    "# Plot the training history\n",
    "plt.figure(figsize=(12, 5))\n",
    "plt.plot(history.history['acc'], color='r')\n",
    "plt.plot(history.history['val_acc'], color='b')\n",
    "plt.title('Model Accuracy')\n",
    "plt.ylabel('Accuracy')\n",
    "plt.xlabel('Epochs')\n",
    "plt.legend(['train', 'val'])\n",
    "\n",
    "plt.show()"
   ]
  },
  {
   "cell_type": "markdown",
   "metadata": {},
   "source": [
    "Here we analyse how the model is learning with each epoch in terms of accuracy."
   ]
  },
  {
   "cell_type": "code",
   "execution_count": null,
   "metadata": {
    "execution": {
     "iopub.execute_input": "2022-02-17T13:10:12.357753Z",
     "iopub.status.busy": "2022-02-17T13:10:12.357096Z",
     "iopub.status.idle": "2022-02-17T13:10:18.067185Z",
     "shell.execute_reply": "2022-02-17T13:10:18.066572Z",
     "shell.execute_reply.started": "2022-02-17T13:10:12.357675Z"
    }
   },
   "outputs": [],
   "source": [
    "Y_pred = model.predict(X_test)\n",
    "score = model.evaluate(X_test, Y_test)\n",
    "print('Accuracy over the test set: \\n ', round((score[1]*100), 2), '%')"
   ]
  },
  {
   "cell_type": "markdown",
   "metadata": {},
   "source": [
    "We will use predict function to make predictions using this model also we are finding out the accuracy on the test set.\n"
   ]
  },
  {
   "cell_type": "code",
   "execution_count": null,
   "metadata": {
    "execution": {
     "iopub.execute_input": "2022-02-17T13:10:34.203301Z",
     "iopub.status.busy": "2022-02-17T13:10:34.202999Z",
     "iopub.status.idle": "2022-02-17T13:10:34.397219Z",
     "shell.execute_reply": "2022-02-17T13:10:34.39608Z",
     "shell.execute_reply.started": "2022-02-17T13:10:34.203263Z"
    }
   },
   "outputs": [],
   "source": [
    "# Plotting image to compare\n",
    "plt.imshow(X_test[1,:,:,:])\n",
    "plt.show()\n",
    "\n",
    "# Finding max value from predition list and comaparing original value vs predicted\n",
    "print(\"Originally : \",labels['breed'][np.argmax(Y_test[1])])\n",
    "print(\"Predicted : \",labels['breed'][np.argmax(Y_pred[1])])"
   ]
  },
  {
   "cell_type": "markdown",
   "metadata": {
    "execution": {
     "iopub.execute_input": "2022-02-17T09:53:42.284916Z",
     "iopub.status.busy": "2022-02-17T09:53:42.284607Z",
     "iopub.status.idle": "2022-02-17T09:53:42.290025Z",
     "shell.execute_reply": "2022-02-17T09:53:42.288772Z",
     "shell.execute_reply.started": "2022-02-17T09:53:42.284879Z"
    }
   },
   "source": [
    "**Well Done!**"
   ]
  }
 ],
 "metadata": {
  "kernelspec": {
   "display_name": "Python 3",
   "language": "python",
   "name": "python3"
  },
  "language_info": {
   "codemirror_mode": {
    "name": "ipython",
    "version": 3
   },
   "file_extension": ".py",
   "mimetype": "text/x-python",
   "name": "python",
   "nbconvert_exporter": "python",
   "pygments_lexer": "ipython3",
   "version": "3.7.3"
  }
 },
 "nbformat": 4,
 "nbformat_minor": 4
}
